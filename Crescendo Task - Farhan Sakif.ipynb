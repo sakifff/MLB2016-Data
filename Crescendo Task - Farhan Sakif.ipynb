{
 "cells": [
  {
   "cell_type": "markdown",
   "id": "dd501b92",
   "metadata": {},
   "source": [
    "# Crescendo Task MLB2016 Data (Data Scientist or MLE Role)\n",
    "\n",
    "#### Farhan Sakif (farhan.sakif@gmail.com)"
   ]
  },
  {
   "cell_type": "code",
   "execution_count": 472,
   "id": "0fea0004",
   "metadata": {},
   "outputs": [],
   "source": [
    "import pandas as pd\n",
    "import matplotlib.pyplot as plt\n",
    "import seaborn as sns\n",
    "import numpy as np\n",
    "import warnings\n",
    "warnings.filterwarnings(\"ignore\")"
   ]
  },
  {
   "cell_type": "code",
   "execution_count": 473,
   "id": "a81da990",
   "metadata": {},
   "outputs": [
    {
     "data": {
      "text/html": [
       "<div>\n",
       "<style scoped>\n",
       "    .dataframe tbody tr th:only-of-type {\n",
       "        vertical-align: middle;\n",
       "    }\n",
       "\n",
       "    .dataframe tbody tr th {\n",
       "        vertical-align: top;\n",
       "    }\n",
       "\n",
       "    .dataframe thead th {\n",
       "        text-align: right;\n",
       "    }\n",
       "</style>\n",
       "<table border=\"1\" class=\"dataframe\">\n",
       "  <thead>\n",
       "    <tr style=\"text-align: right;\">\n",
       "      <th></th>\n",
       "      <th>GameID</th>\n",
       "      <th>EventDateTimeUTC</th>\n",
       "      <th>AwayTeam</th>\n",
       "      <th>HomeTeam</th>\n",
       "      <th>DoubleHeaderGame</th>\n",
       "      <th>AwayStartingPitcher</th>\n",
       "      <th>HomeStartingPitcher</th>\n",
       "      <th>FinalScoreAway</th>\n",
       "      <th>FinalScoreHome</th>\n",
       "      <th>Lines</th>\n",
       "    </tr>\n",
       "  </thead>\n",
       "  <tbody>\n",
       "    <tr>\n",
       "      <th>0</th>\n",
       "      <td>PIT201604030</td>\n",
       "      <td>1459703100</td>\n",
       "      <td>St. Louis Cardinals</td>\n",
       "      <td>Pittsburgh Pirates</td>\n",
       "      <td>0</td>\n",
       "      <td>A WAINWRIGHT</td>\n",
       "      <td>F LIRIANO</td>\n",
       "      <td>1</td>\n",
       "      <td>4</td>\n",
       "      <td>{'EnteredDateTimeUTC': [1459433808.047, 145943...</td>\n",
       "    </tr>\n",
       "    <tr>\n",
       "      <th>1</th>\n",
       "      <td>TBA201604030</td>\n",
       "      <td>1459713900</td>\n",
       "      <td>Toronto Blue Jays</td>\n",
       "      <td>Tampa Bay Rays</td>\n",
       "      <td>0</td>\n",
       "      <td>M STROMAN</td>\n",
       "      <td>C ARCHER</td>\n",
       "      <td>5</td>\n",
       "      <td>3</td>\n",
       "      <td>{'EnteredDateTimeUTC': [1459433821.007, 145943...</td>\n",
       "    </tr>\n",
       "    <tr>\n",
       "      <th>2</th>\n",
       "      <td>KCA201604030</td>\n",
       "      <td>1459730100</td>\n",
       "      <td>New York Mets</td>\n",
       "      <td>Kansas City Royals</td>\n",
       "      <td>0</td>\n",
       "      <td>M HARVEY</td>\n",
       "      <td>E VOLQUEZ</td>\n",
       "      <td>3</td>\n",
       "      <td>4</td>\n",
       "      <td>{'EnteredDateTimeUTC': [1459433838.987, 145943...</td>\n",
       "    </tr>\n",
       "    <tr>\n",
       "      <th>3</th>\n",
       "      <td>MIL201604040</td>\n",
       "      <td>1459793400</td>\n",
       "      <td>San Francisco Giants</td>\n",
       "      <td>Milwaukee Brewers</td>\n",
       "      <td>0</td>\n",
       "      <td>MBUMGARNER</td>\n",
       "      <td>W PERALTA</td>\n",
       "      <td>12</td>\n",
       "      <td>3</td>\n",
       "      <td>{'EnteredDateTimeUTC': [1459618354.15, 1459618...</td>\n",
       "    </tr>\n",
       "    <tr>\n",
       "      <th>4</th>\n",
       "      <td>BAL201604040</td>\n",
       "      <td>1459796700</td>\n",
       "      <td>Minnesota Twins</td>\n",
       "      <td>Baltimore Orioles</td>\n",
       "      <td>0</td>\n",
       "      <td>E SANTANA</td>\n",
       "      <td>C TILLMAN</td>\n",
       "      <td>2</td>\n",
       "      <td>3</td>\n",
       "      <td>{'EnteredDateTimeUTC': [1459626288.963, 145962...</td>\n",
       "    </tr>\n",
       "  </tbody>\n",
       "</table>\n",
       "</div>"
      ],
      "text/plain": [
       "         GameID  EventDateTimeUTC              AwayTeam            HomeTeam  \\\n",
       "0  PIT201604030        1459703100   St. Louis Cardinals  Pittsburgh Pirates   \n",
       "1  TBA201604030        1459713900     Toronto Blue Jays      Tampa Bay Rays   \n",
       "2  KCA201604030        1459730100         New York Mets  Kansas City Royals   \n",
       "3  MIL201604040        1459793400  San Francisco Giants   Milwaukee Brewers   \n",
       "4  BAL201604040        1459796700       Minnesota Twins   Baltimore Orioles   \n",
       "\n",
       "   DoubleHeaderGame AwayStartingPitcher HomeStartingPitcher  FinalScoreAway  \\\n",
       "0                 0        A WAINWRIGHT           F LIRIANO               1   \n",
       "1                 0           M STROMAN            C ARCHER               5   \n",
       "2                 0            M HARVEY           E VOLQUEZ               3   \n",
       "3                 0          MBUMGARNER           W PERALTA              12   \n",
       "4                 0           E SANTANA           C TILLMAN               2   \n",
       "\n",
       "   FinalScoreHome                                              Lines  \n",
       "0               4  {'EnteredDateTimeUTC': [1459433808.047, 145943...  \n",
       "1               3  {'EnteredDateTimeUTC': [1459433821.007, 145943...  \n",
       "2               4  {'EnteredDateTimeUTC': [1459433838.987, 145943...  \n",
       "3               3  {'EnteredDateTimeUTC': [1459618354.15, 1459618...  \n",
       "4               3  {'EnteredDateTimeUTC': [1459626288.963, 145962...  "
      ]
     },
     "execution_count": 473,
     "metadata": {},
     "output_type": "execute_result"
    }
   ],
   "source": [
    "# Load in data\n",
    "\n",
    "url = \"https://raw.githubusercontent.com/sakifff/MLB2016-Data/main/MLB2016.json\"\n",
    "df = pd.read_json(url)\n",
    "\n",
    "df.head()"
   ]
  },
  {
   "cell_type": "markdown",
   "id": "f3cc8c50",
   "metadata": {},
   "source": [
    "# Q1. What was the final win percentage of the Chicago Cubs in 2016?"
   ]
  },
  {
   "cell_type": "code",
   "execution_count": 474,
   "id": "963a6949",
   "metadata": {},
   "outputs": [],
   "source": [
    "# Create two dataframes for home games and away games played by the Cubs\n",
    "cubs_home = df.loc[df.HomeTeam == \"Chicago Cubs\"]\n",
    "cubs_away = df.loc[df.AwayTeam == \"Chicago Cubs\"]\n",
    "\n",
    "# Create a new column within the home and away dataframes that identifies if the Cubs won or not\n",
    "cubs_home['win'] = cubs_home.FinalScoreHome > cubs_home.FinalScoreAway\n",
    "cubs_away['win'] = cubs_away.FinalScoreHome < cubs_away.FinalScoreAway\n",
    "\n",
    "# Append the dataframes together and sort by index to have it back in the original order\n",
    "cubs = cubs_home.append(cubs_away)\n",
    "cubs = cubs.sort_index()"
   ]
  },
  {
   "cell_type": "code",
   "execution_count": 475,
   "id": "dcb730da",
   "metadata": {},
   "outputs": [
    {
     "data": {
      "text/html": [
       "<div>\n",
       "<style scoped>\n",
       "    .dataframe tbody tr th:only-of-type {\n",
       "        vertical-align: middle;\n",
       "    }\n",
       "\n",
       "    .dataframe tbody tr th {\n",
       "        vertical-align: top;\n",
       "    }\n",
       "\n",
       "    .dataframe thead th {\n",
       "        text-align: right;\n",
       "    }\n",
       "</style>\n",
       "<table border=\"1\" class=\"dataframe\">\n",
       "  <thead>\n",
       "    <tr style=\"text-align: right;\">\n",
       "      <th></th>\n",
       "      <th>GameID</th>\n",
       "      <th>EventDateTimeUTC</th>\n",
       "      <th>AwayTeam</th>\n",
       "      <th>HomeTeam</th>\n",
       "      <th>DoubleHeaderGame</th>\n",
       "      <th>AwayStartingPitcher</th>\n",
       "      <th>HomeStartingPitcher</th>\n",
       "      <th>FinalScoreAway</th>\n",
       "      <th>FinalScoreHome</th>\n",
       "      <th>Lines</th>\n",
       "      <th>win</th>\n",
       "    </tr>\n",
       "  </thead>\n",
       "  <tbody>\n",
       "    <tr>\n",
       "      <th>11</th>\n",
       "      <td>ANA201604040</td>\n",
       "      <td>1459821900</td>\n",
       "      <td>Chicago Cubs</td>\n",
       "      <td>Los Angeles Angels of Anaheim</td>\n",
       "      <td>0</td>\n",
       "      <td>J ARRIETA</td>\n",
       "      <td>G RICHARDS</td>\n",
       "      <td>9</td>\n",
       "      <td>0</td>\n",
       "      <td>{'EnteredDateTimeUTC': [1459626333.66, 1459626...</td>\n",
       "      <td>True</td>\n",
       "    </tr>\n",
       "    <tr>\n",
       "      <th>22</th>\n",
       "      <td>ANA201604050</td>\n",
       "      <td>1459908300</td>\n",
       "      <td>Chicago Cubs</td>\n",
       "      <td>Los Angeles Angels of Anaheim</td>\n",
       "      <td>0</td>\n",
       "      <td>JLESTER</td>\n",
       "      <td>A HEANEY</td>\n",
       "      <td>6</td>\n",
       "      <td>1</td>\n",
       "      <td>{'EnteredDateTimeUTC': [1459771935.223, 145977...</td>\n",
       "      <td>True</td>\n",
       "    </tr>\n",
       "    <tr>\n",
       "      <th>44</th>\n",
       "      <td>ARI201604070</td>\n",
       "      <td>1460079600</td>\n",
       "      <td>Chicago Cubs</td>\n",
       "      <td>Arizona Diamondbacks</td>\n",
       "      <td>0</td>\n",
       "      <td>J LACKEY</td>\n",
       "      <td>R DE LA ROSA</td>\n",
       "      <td>14</td>\n",
       "      <td>6</td>\n",
       "      <td>{'EnteredDateTimeUTC': [1459944990.827, 145994...</td>\n",
       "      <td>True</td>\n",
       "    </tr>\n",
       "    <tr>\n",
       "      <th>56</th>\n",
       "      <td>ARI201604080</td>\n",
       "      <td>1460166000</td>\n",
       "      <td>Chicago Cubs</td>\n",
       "      <td>Arizona Diamondbacks</td>\n",
       "      <td>0</td>\n",
       "      <td>J HAMMEL</td>\n",
       "      <td>R RAY</td>\n",
       "      <td>2</td>\n",
       "      <td>3</td>\n",
       "      <td>{'EnteredDateTimeUTC': [1460031193.667, 146003...</td>\n",
       "      <td>False</td>\n",
       "    </tr>\n",
       "    <tr>\n",
       "      <th>69</th>\n",
       "      <td>ARI201604090</td>\n",
       "      <td>1460247000</td>\n",
       "      <td>Chicago Cubs</td>\n",
       "      <td>Arizona Diamondbacks</td>\n",
       "      <td>0</td>\n",
       "      <td>K HENDRICKS</td>\n",
       "      <td>Z GREINKE</td>\n",
       "      <td>4</td>\n",
       "      <td>2</td>\n",
       "      <td>{'EnteredDateTimeUTC': [1460116762.613, 146011...</td>\n",
       "      <td>True</td>\n",
       "    </tr>\n",
       "  </tbody>\n",
       "</table>\n",
       "</div>"
      ],
      "text/plain": [
       "          GameID  EventDateTimeUTC      AwayTeam  \\\n",
       "11  ANA201604040        1459821900  Chicago Cubs   \n",
       "22  ANA201604050        1459908300  Chicago Cubs   \n",
       "44  ARI201604070        1460079600  Chicago Cubs   \n",
       "56  ARI201604080        1460166000  Chicago Cubs   \n",
       "69  ARI201604090        1460247000  Chicago Cubs   \n",
       "\n",
       "                         HomeTeam  DoubleHeaderGame AwayStartingPitcher  \\\n",
       "11  Los Angeles Angels of Anaheim                 0           J ARRIETA   \n",
       "22  Los Angeles Angels of Anaheim                 0             JLESTER   \n",
       "44           Arizona Diamondbacks                 0            J LACKEY   \n",
       "56           Arizona Diamondbacks                 0            J HAMMEL   \n",
       "69           Arizona Diamondbacks                 0         K HENDRICKS   \n",
       "\n",
       "   HomeStartingPitcher  FinalScoreAway  FinalScoreHome  \\\n",
       "11          G RICHARDS               9               0   \n",
       "22            A HEANEY               6               1   \n",
       "44        R DE LA ROSA              14               6   \n",
       "56               R RAY               2               3   \n",
       "69           Z GREINKE               4               2   \n",
       "\n",
       "                                                Lines    win  \n",
       "11  {'EnteredDateTimeUTC': [1459626333.66, 1459626...   True  \n",
       "22  {'EnteredDateTimeUTC': [1459771935.223, 145977...   True  \n",
       "44  {'EnteredDateTimeUTC': [1459944990.827, 145994...   True  \n",
       "56  {'EnteredDateTimeUTC': [1460031193.667, 146003...  False  \n",
       "69  {'EnteredDateTimeUTC': [1460116762.613, 146011...   True  "
      ]
     },
     "execution_count": 475,
     "metadata": {},
     "output_type": "execute_result"
    }
   ],
   "source": [
    "# Now we have a dataframe of all of the Cubs' games in 2016 and also a new column indicating if they won or not\n",
    "cubs.head()"
   ]
  },
  {
   "cell_type": "code",
   "execution_count": 476,
   "id": "410f319f",
   "metadata": {},
   "outputs": [
    {
     "name": "stdout",
     "output_type": "stream",
     "text": [
      "The Chicago Cubs' final win percentage in 2016 is: 63.687150837988824%\n"
     ]
    }
   ],
   "source": [
    "# Count the number of times True appears and divide by the length of the Cubs dataframe\n",
    "\n",
    "print(\"The Chicago Cubs' final win percentage in 2016 is: \" + str(cubs.win.value_counts()[True] / len(cubs) * 100) + \"%\")"
   ]
  },
  {
   "cell_type": "markdown",
   "id": "9f2dd4ce",
   "metadata": {},
   "source": [
    "# Q1. a) Plot the winning percentage of the Chicago Cubs as a function of time in 2016."
   ]
  },
  {
   "cell_type": "code",
   "execution_count": 477,
   "id": "f1630536",
   "metadata": {},
   "outputs": [
    {
     "data": {
      "text/plain": [
       "True"
      ]
     },
     "execution_count": 477,
     "metadata": {},
     "output_type": "execute_result"
    }
   ],
   "source": [
    "sorted(list(cubs.EventDateTimeUTC)) == list(cubs.EventDateTimeUTC)\n",
    "\n",
    "# Since the output is True, I can assume that the dataframe is in the order of the games played throughout the year"
   ]
  },
  {
   "cell_type": "code",
   "execution_count": 478,
   "id": "1d587d92",
   "metadata": {},
   "outputs": [],
   "source": [
    "# Create empty list to append the win percentage throughout the year and make a copy of the cubs dataframe\n",
    "win_percentage = []\n",
    "cubs2 = cubs.copy()\n",
    "\n",
    "# The idea here is to calculate win percentage at the end of the dataframe (like the previous question) and remove the last row\n",
    "# Doing so in a while loop will keep removing the last row of the dataframe and calculate the win percentage at that point\n",
    "# All while appending to the empty list created above\n",
    "# So for example the last iteration of the loop will be the win % for the first game played of the year (since only the first row is left)\n",
    "# Since the Cubs won that game, the win % will be 100\n",
    "while len(cubs2) > 0:\n",
    "    x = cubs2.win.value_counts()[True] / len(cubs2) * 100\n",
    "    win_percentage.append(x)\n",
    "    cubs2 = cubs2[:-1]\n",
    "\n",
    "# The result is a list containing the win percentage of the Cubs throughout the year but reversed since we calculated backwards\n",
    "# So reverse the list\n",
    "win_percentage.reverse()\n",
    "\n",
    "# And add in a new column to the dataframe\n",
    "cubs['win_percentage'] = win_percentage"
   ]
  },
  {
   "cell_type": "code",
   "execution_count": 479,
   "id": "07e111b8",
   "metadata": {},
   "outputs": [
    {
     "data": {
      "text/plain": [
       "11      100.000000\n",
       "22      100.000000\n",
       "44      100.000000\n",
       "56       75.000000\n",
       "69       80.000000\n",
       "           ...    \n",
       "2457     63.428571\n",
       "2458     63.068182\n",
       "2459     63.276836\n",
       "2460     63.483146\n",
       "2461     63.687151\n",
       "Name: win_percentage, Length: 179, dtype: float64"
      ]
     },
     "execution_count": 479,
     "metadata": {},
     "output_type": "execute_result"
    }
   ],
   "source": [
    "cubs.win_percentage"
   ]
  },
  {
   "cell_type": "code",
   "execution_count": 480,
   "id": "ed354204",
   "metadata": {},
   "outputs": [],
   "source": [
    "cubs = cubs.reset_index()"
   ]
  },
  {
   "cell_type": "code",
   "execution_count": 481,
   "id": "c6bf5840",
   "metadata": {},
   "outputs": [
    {
     "data": {
      "text/plain": [
       "Text(0.5, 0, 'Games played')"
      ]
     },
     "execution_count": 481,
     "metadata": {},
     "output_type": "execute_result"
    },
    {
     "data": {
      "image/png": "[encoded data removed]",
      "text/plain": [
       "<Figure size 720x504 with 1 Axes>"
      ]
     },
     "metadata": {
      "needs_background": "light"
     },
     "output_type": "display_data"
    }
   ],
   "source": [
    "# Now finally plot in the win percentage\n",
    "\n",
    "plt.figure(figsize=(10, 7))\n",
    "sns.lineplot(data=cubs, x=cubs.index, y='win_percentage')\n",
    "plt.xlabel('Games played')"
   ]
  },
  {
   "cell_type": "markdown",
   "id": "4cd2816c",
   "metadata": {},
   "source": [
    "# Q2. Create an object that counts the number of games each pitcher started and the number of wins"
   ]
  },
  {
   "cell_type": "markdown",
   "id": "38cb45b8",
   "metadata": {},
   "source": [
    "### Data Cleaning\n",
    "\n",
    "- I noticed some pitchers appear in the dataframe with a different spelling for their names and as a result any code that I write will consider those to be two different players. For example, \"Z NEAL\" shows up as \"ZNEAL\" or \"B SNELL\" showing up as \"BSNELL\"\n",
    "\n",
    "- So I identified all the players that have this inconsistency issue and will apply a quick fix to it before doing the rest of the question\n",
    "\n",
    "- Fixing this will make the data better prepared for answering the next question"
   ]
  },
  {
   "cell_type": "code",
   "execution_count": 482,
   "id": "b59fb9eb",
   "metadata": {},
   "outputs": [],
   "source": [
    "names = ['JNIESE', 'ZNEAL', 'WPEREZ', 'DSTRAILY', 'BSNELL', 'JTOMLIN', 'JTAILLON', 'SGRAY', 'DFISTER', 'JNICASIO', 'JLAMB',\n",
    "         'MTANAKA', 'TANDERSON', 'RSTEPHENSON', 'CBASSITT', 'CRICHARD', 'DMENGDEN', 'RDICKEY', 'KSAMPSON', 'ERODRIGUEZ', \n",
    "         'JARRIETA']\n",
    "\n",
    "for i in names:\n",
    "    df['HomeStartingPitcher'] = df['HomeStartingPitcher'].replace(to_replace=i, value=(i[:1] + ' ' + i[1:]))\n",
    "    df['AwayStartingPitcher'] = df['AwayStartingPitcher'].replace(to_replace=i, value=(i[:1] + ' ' + i[1:]))"
   ]
  },
  {
   "cell_type": "code",
   "execution_count": 483,
   "id": "b9280344",
   "metadata": {},
   "outputs": [],
   "source": [
    "# Create new dataframe of the pitchers\n",
    "\n",
    "pitching = pd.DataFrame(data=set(list(df.HomeStartingPitcher)), columns=['pitcher'])"
   ]
  },
  {
   "cell_type": "code",
   "execution_count": 484,
   "id": "f29feb3e",
   "metadata": {},
   "outputs": [
    {
     "data": {
      "text/html": [
       "<div>\n",
       "<style scoped>\n",
       "    .dataframe tbody tr th:only-of-type {\n",
       "        vertical-align: middle;\n",
       "    }\n",
       "\n",
       "    .dataframe tbody tr th {\n",
       "        vertical-align: top;\n",
       "    }\n",
       "\n",
       "    .dataframe thead th {\n",
       "        text-align: right;\n",
       "    }\n",
       "</style>\n",
       "<table border=\"1\" class=\"dataframe\">\n",
       "  <thead>\n",
       "    <tr style=\"text-align: right;\">\n",
       "      <th></th>\n",
       "      <th>pitcher</th>\n",
       "    </tr>\n",
       "  </thead>\n",
       "  <tbody>\n",
       "    <tr>\n",
       "      <th>0</th>\n",
       "      <td>S STRASBURG</td>\n",
       "    </tr>\n",
       "    <tr>\n",
       "      <th>1</th>\n",
       "      <td>D WRIGHT</td>\n",
       "    </tr>\n",
       "    <tr>\n",
       "      <th>2</th>\n",
       "      <td>T WALKER</td>\n",
       "    </tr>\n",
       "    <tr>\n",
       "      <th>3</th>\n",
       "      <td>I KENNEDY</td>\n",
       "    </tr>\n",
       "    <tr>\n",
       "      <th>4</th>\n",
       "      <td>D GEE</td>\n",
       "    </tr>\n",
       "  </tbody>\n",
       "</table>\n",
       "</div>"
      ],
      "text/plain": [
       "       pitcher\n",
       "0  S STRASBURG\n",
       "1     D WRIGHT\n",
       "2     T WALKER\n",
       "3    I KENNEDY\n",
       "4        D GEE"
      ]
     },
     "execution_count": 484,
     "metadata": {},
     "output_type": "execute_result"
    }
   ],
   "source": [
    "pitching.head()"
   ]
  },
  {
   "cell_type": "code",
   "execution_count": 485,
   "id": "2f67fc11",
   "metadata": {},
   "outputs": [],
   "source": [
    "home_games_started = []\n",
    "away_games_started = []\n",
    "home_games_won = []\n",
    "away_games_won = []\n",
    "\n",
    "# Loop through the different pitchers and count how many appearances they made (the amount of times they appear should be it)\n",
    "# Then loop through the times they have appeared and won the game (for both home and away)\n",
    "# Add all the counts to the empty lists created above\n",
    "for i in (list(pitching.pitcher)):\n",
    "    x = len(df.loc[df.HomeStartingPitcher == i])\n",
    "    home_games_started.append(x)\n",
    "    \n",
    "    y = len(df.loc[df.AwayStartingPitcher == i])\n",
    "    away_games_started.append(y)\n",
    "    \n",
    "    a = len(df[(df.HomeStartingPitcher == i) & (df.FinalScoreHome > df.FinalScoreAway)])\n",
    "    home_games_won.append(a)\n",
    "    \n",
    "    b = len(df[(df.AwayStartingPitcher == i) & (df.FinalScoreHome < df.FinalScoreAway)])\n",
    "    away_games_won.append(b)\n",
    "    \n",
    "# Add the newly formed lists as columns to the pitching dataframe    \n",
    "pitching['home_games_started'] = home_games_played\n",
    "pitching['away_games_started'] = away_games_played\n",
    "pitching['home_games_won'] = home_games_won\n",
    "pitching['away_games_won'] = away_games_won\n",
    "\n",
    "# Aggregate home and away stats to get totals\n",
    "pitching['games_started'] = pitching.home_games_started + pitching.away_games_started\n",
    "pitching['games_won'] = pitching.home_games_won + pitching.away_games_won\n",
    "\n",
    "pitching_info = pitching.drop(columns=['home_games_started', 'away_games_started', 'home_games_won', 'away_games_won'])"
   ]
  },
  {
   "cell_type": "code",
   "execution_count": 486,
   "id": "dbc63bae",
   "metadata": {},
   "outputs": [
    {
     "data": {
      "text/html": [
       "<div>\n",
       "<style scoped>\n",
       "    .dataframe tbody tr th:only-of-type {\n",
       "        vertical-align: middle;\n",
       "    }\n",
       "\n",
       "    .dataframe tbody tr th {\n",
       "        vertical-align: top;\n",
       "    }\n",
       "\n",
       "    .dataframe thead th {\n",
       "        text-align: right;\n",
       "    }\n",
       "</style>\n",
       "<table border=\"1\" class=\"dataframe\">\n",
       "  <thead>\n",
       "    <tr style=\"text-align: right;\">\n",
       "      <th></th>\n",
       "      <th>pitcher</th>\n",
       "      <th>games_started</th>\n",
       "      <th>games_won</th>\n",
       "    </tr>\n",
       "  </thead>\n",
       "  <tbody>\n",
       "    <tr>\n",
       "      <th>234</th>\n",
       "      <td>A ALBERS</td>\n",
       "      <td>2</td>\n",
       "      <td>0</td>\n",
       "    </tr>\n",
       "    <tr>\n",
       "      <th>5</th>\n",
       "      <td>A ASHER</td>\n",
       "      <td>5</td>\n",
       "      <td>2</td>\n",
       "    </tr>\n",
       "    <tr>\n",
       "      <th>99</th>\n",
       "      <td>A BLAIR</td>\n",
       "      <td>15</td>\n",
       "      <td>4</td>\n",
       "    </tr>\n",
       "    <tr>\n",
       "      <th>111</th>\n",
       "      <td>A BRADLEY</td>\n",
       "      <td>26</td>\n",
       "      <td>13</td>\n",
       "    </tr>\n",
       "    <tr>\n",
       "      <th>224</th>\n",
       "      <td>A CASHNER</td>\n",
       "      <td>27</td>\n",
       "      <td>11</td>\n",
       "    </tr>\n",
       "    <tr>\n",
       "      <th>122</th>\n",
       "      <td>A COBB</td>\n",
       "      <td>5</td>\n",
       "      <td>2</td>\n",
       "    </tr>\n",
       "  </tbody>\n",
       "</table>\n",
       "</div>"
      ],
      "text/plain": [
       "       pitcher  games_started  games_won\n",
       "234   A ALBERS              2          0\n",
       "5      A ASHER              5          2\n",
       "99     A BLAIR             15          4\n",
       "111  A BRADLEY             26         13\n",
       "224  A CASHNER             27         11\n",
       "122     A COBB              5          2"
      ]
     },
     "execution_count": 486,
     "metadata": {},
     "output_type": "execute_result"
    }
   ],
   "source": [
    "pitching_info = pitching_info.sort_values('pitcher')\n",
    "pitching_info.head(6)"
   ]
  },
  {
   "cell_type": "markdown",
   "id": "aa33047e",
   "metadata": {},
   "source": [
    "# Q2. a) How would you rank the pitchers from best to worst using the information from the table above?"
   ]
  },
  {
   "cell_type": "code",
   "execution_count": 487,
   "id": "8dc7e153",
   "metadata": {},
   "outputs": [
    {
     "data": {
      "text/plain": [
       "count    298.000000\n",
       "mean      16.335570\n",
       "std       11.649546\n",
       "min        1.000000\n",
       "25%        5.000000\n",
       "50%       14.000000\n",
       "75%       26.000000\n",
       "max       58.000000\n",
       "Name: games_started, dtype: float64"
      ]
     },
     "execution_count": 487,
     "metadata": {},
     "output_type": "execute_result"
    }
   ],
   "source": [
    "pitching_info.games_started.describe()"
   ]
  },
  {
   "cell_type": "markdown",
   "id": "e70d895e",
   "metadata": {},
   "source": [
    "- For a more holistic picture of the data, lets only consider the pitchers that have started around the average number of games or more"
   ]
  },
  {
   "cell_type": "code",
   "execution_count": 488,
   "id": "e2bf1f92",
   "metadata": {},
   "outputs": [],
   "source": [
    "pitching_info = pitching_info.loc[pitching_info.games_started > 15]"
   ]
  },
  {
   "cell_type": "code",
   "execution_count": 489,
   "id": "fd5742ed",
   "metadata": {},
   "outputs": [],
   "source": [
    "pitching_info['win_ratio'] = pitching_info.games_won / pitching_info.games_started"
   ]
  },
  {
   "cell_type": "code",
   "execution_count": 490,
   "id": "6b87e698",
   "metadata": {},
   "outputs": [
    {
     "data": {
      "text/html": [
       "<div>\n",
       "<style scoped>\n",
       "    .dataframe tbody tr th:only-of-type {\n",
       "        vertical-align: middle;\n",
       "    }\n",
       "\n",
       "    .dataframe tbody tr th {\n",
       "        vertical-align: top;\n",
       "    }\n",
       "\n",
       "    .dataframe thead th {\n",
       "        text-align: right;\n",
       "    }\n",
       "</style>\n",
       "<table border=\"1\" class=\"dataframe\">\n",
       "  <thead>\n",
       "    <tr style=\"text-align: right;\">\n",
       "      <th></th>\n",
       "      <th>pitcher</th>\n",
       "      <th>games_started</th>\n",
       "      <th>games_won</th>\n",
       "      <th>win_ratio</th>\n",
       "    </tr>\n",
       "  </thead>\n",
       "  <tbody>\n",
       "    <tr>\n",
       "      <th>164</th>\n",
       "      <td>C KERSHAW</td>\n",
       "      <td>25</td>\n",
       "      <td>20</td>\n",
       "      <td>0.800000</td>\n",
       "    </tr>\n",
       "    <tr>\n",
       "      <th>0</th>\n",
       "      <td>S STRASBURG</td>\n",
       "      <td>24</td>\n",
       "      <td>19</td>\n",
       "      <td>0.791667</td>\n",
       "    </tr>\n",
       "    <tr>\n",
       "      <th>48</th>\n",
       "      <td>J LESTER</td>\n",
       "      <td>36</td>\n",
       "      <td>27</td>\n",
       "      <td>0.750000</td>\n",
       "    </tr>\n",
       "    <tr>\n",
       "      <th>161</th>\n",
       "      <td>M TANAKA</td>\n",
       "      <td>31</td>\n",
       "      <td>23</td>\n",
       "      <td>0.741935</td>\n",
       "    </tr>\n",
       "    <tr>\n",
       "      <th>273</th>\n",
       "      <td>R PORCELLO</td>\n",
       "      <td>34</td>\n",
       "      <td>25</td>\n",
       "      <td>0.735294</td>\n",
       "    </tr>\n",
       "    <tr>\n",
       "      <th>...</th>\n",
       "      <td>...</td>\n",
       "      <td>...</td>\n",
       "      <td>...</td>\n",
       "      <td>...</td>\n",
       "    </tr>\n",
       "    <tr>\n",
       "      <th>43</th>\n",
       "      <td>C ARCHER</td>\n",
       "      <td>33</td>\n",
       "      <td>10</td>\n",
       "      <td>0.303030</td>\n",
       "    </tr>\n",
       "    <tr>\n",
       "      <th>32</th>\n",
       "      <td>P CORBIN</td>\n",
       "      <td>24</td>\n",
       "      <td>7</td>\n",
       "      <td>0.291667</td>\n",
       "    </tr>\n",
       "    <tr>\n",
       "      <th>297</th>\n",
       "      <td>J SHIELDS</td>\n",
       "      <td>33</td>\n",
       "      <td>9</td>\n",
       "      <td>0.272727</td>\n",
       "    </tr>\n",
       "    <tr>\n",
       "      <th>250</th>\n",
       "      <td>E SANTANA</td>\n",
       "      <td>30</td>\n",
       "      <td>8</td>\n",
       "      <td>0.266667</td>\n",
       "    </tr>\n",
       "    <tr>\n",
       "      <th>184</th>\n",
       "      <td>A MORGAN</td>\n",
       "      <td>21</td>\n",
       "      <td>5</td>\n",
       "      <td>0.238095</td>\n",
       "    </tr>\n",
       "  </tbody>\n",
       "</table>\n",
       "<p>142 rows × 4 columns</p>\n",
       "</div>"
      ],
      "text/plain": [
       "         pitcher  games_started  games_won  win_ratio\n",
       "164    C KERSHAW             25         20   0.800000\n",
       "0    S STRASBURG             24         19   0.791667\n",
       "48      J LESTER             36         27   0.750000\n",
       "161     M TANAKA             31         23   0.741935\n",
       "273   R PORCELLO             34         25   0.735294\n",
       "..           ...            ...        ...        ...\n",
       "43      C ARCHER             33         10   0.303030\n",
       "32      P CORBIN             24          7   0.291667\n",
       "297    J SHIELDS             33          9   0.272727\n",
       "250    E SANTANA             30          8   0.266667\n",
       "184     A MORGAN             21          5   0.238095\n",
       "\n",
       "[142 rows x 4 columns]"
      ]
     },
     "execution_count": 490,
     "metadata": {},
     "output_type": "execute_result"
    }
   ],
   "source": [
    "sort = pitching_info.sort_values('win_ratio', ascending=False)\n",
    "sort"
   ]
  },
  {
   "cell_type": "markdown",
   "id": "238102e4",
   "metadata": {},
   "source": [
    "- Ranking pitchers based on games started and games won should only be a starting point as there are many more factors that would go into pitching performance, more specifically individual performance based metrics rather than team performance metrics such as games won as at the end of the day the team's overall performance wins the game.\n",
    "\n",
    "- However using only the information above, a conclusion as to who the best pitchers are can be made when looking at the win/loss ratio and provided the pitchers have started a decent number of games"
   ]
  },
  {
   "cell_type": "markdown",
   "id": "6a977c88",
   "metadata": {},
   "source": [
    "# Q3. For each game extract the first and last MoneyUS2 recorded that aren’t NA’s, use odds.converter to transform it into probabilities and finally create a binary column indicating if Home Team won or not."
   ]
  },
  {
   "cell_type": "code",
   "execution_count": 491,
   "id": "b57f199d",
   "metadata": {},
   "outputs": [],
   "source": [
    "# The 'Lines' column is a series of dictionaries so we can turn it into a dataframe by turning each dictionary into a series\n",
    "\n",
    "df2 = df.drop('Lines', axis=1).join(pd.DataFrame(df.Lines.values.tolist()))"
   ]
  },
  {
   "cell_type": "code",
   "execution_count": 492,
   "id": "2a608da7",
   "metadata": {},
   "outputs": [],
   "source": [
    "#Extract the first and last values of First_MoneyUS2 and Last_MoneyUS2\n",
    "\n",
    "First_MoneyUS2 = []\n",
    "Last_MoneyUS2 = []\n",
    "\n",
    "for i in df2.MoneyUS2:\n",
    "    First_MoneyUS2.append(i[0])\n",
    "    Last_MoneyUS2.append(i[-1])\n",
    "    \n",
    "df2['First_MoneyUS2'] = First_MoneyUS2\n",
    "df2['Last_MoneyUS2'] = Last_MoneyUS2"
   ]
  },
  {
   "cell_type": "code",
   "execution_count": 493,
   "id": "d58b3239",
   "metadata": {},
   "outputs": [],
   "source": [
    "#Add a column indicating a binary whether the home team won or not\n",
    "\n",
    "df2['WinHomeTeam'] = df2.FinalScoreHome > df2.FinalScoreAway"
   ]
  },
  {
   "cell_type": "code",
   "execution_count": 494,
   "id": "4222cc58",
   "metadata": {},
   "outputs": [
    {
     "data": {
      "text/html": [
       "<div>\n",
       "<style scoped>\n",
       "    .dataframe tbody tr th:only-of-type {\n",
       "        vertical-align: middle;\n",
       "    }\n",
       "\n",
       "    .dataframe tbody tr th {\n",
       "        vertical-align: top;\n",
       "    }\n",
       "\n",
       "    .dataframe thead th {\n",
       "        text-align: right;\n",
       "    }\n",
       "</style>\n",
       "<table border=\"1\" class=\"dataframe\">\n",
       "  <thead>\n",
       "    <tr style=\"text-align: right;\">\n",
       "      <th></th>\n",
       "      <th>GameID</th>\n",
       "      <th>First_MoneyUS2</th>\n",
       "      <th>Last_MoneyUS2</th>\n",
       "      <th>WinHomeTeam</th>\n",
       "    </tr>\n",
       "  </thead>\n",
       "  <tbody>\n",
       "    <tr>\n",
       "      <th>0</th>\n",
       "      <td>PIT201604030</td>\n",
       "      <td>102</td>\n",
       "      <td>-118</td>\n",
       "      <td>True</td>\n",
       "    </tr>\n",
       "    <tr>\n",
       "      <th>1</th>\n",
       "      <td>TBA201604030</td>\n",
       "      <td>104</td>\n",
       "      <td>-117</td>\n",
       "      <td>False</td>\n",
       "    </tr>\n",
       "    <tr>\n",
       "      <th>2</th>\n",
       "      <td>KCA201604030</td>\n",
       "      <td>106</td>\n",
       "      <td>107</td>\n",
       "      <td>True</td>\n",
       "    </tr>\n",
       "    <tr>\n",
       "      <th>3</th>\n",
       "      <td>MIL201604040</td>\n",
       "      <td>165</td>\n",
       "      <td>155</td>\n",
       "      <td>False</td>\n",
       "    </tr>\n",
       "    <tr>\n",
       "      <th>4</th>\n",
       "      <td>BAL201604040</td>\n",
       "      <td>-119</td>\n",
       "      <td>-114</td>\n",
       "      <td>True</td>\n",
       "    </tr>\n",
       "  </tbody>\n",
       "</table>\n",
       "</div>"
      ],
      "text/plain": [
       "         GameID First_MoneyUS2  Last_MoneyUS2  WinHomeTeam\n",
       "0  PIT201604030            102           -118         True\n",
       "1  TBA201604030            104           -117        False\n",
       "2  KCA201604030            106            107         True\n",
       "3  MIL201604040            165            155        False\n",
       "4  BAL201604040           -119           -114         True"
      ]
     },
     "execution_count": 494,
     "metadata": {},
     "output_type": "execute_result"
    }
   ],
   "source": [
    "# Filter out the columns we don't want\n",
    "\n",
    "probabilities = df2[['GameID', 'First_MoneyUS2', 'Last_MoneyUS2', 'WinHomeTeam']]\n",
    "probabilities.head()"
   ]
  },
  {
   "cell_type": "code",
   "execution_count": 495,
   "id": "c4ebc5a1",
   "metadata": {},
   "outputs": [],
   "source": [
    "# Replace NA values with np.nan for easy removal\n",
    "\n",
    "probabilities['First_MoneyUS2'] = probabilities['First_MoneyUS2'].replace(to_replace='NA', value=np.nan)\n",
    "probabilities['Last_MoneyUS2'] = probabilities['Last_MoneyUS2'].replace(to_replace='NA', value=np.nan)\n",
    "\n",
    "# Drop the NaN values\n",
    "\n",
    "probabilities = probabilities.dropna()"
   ]
  },
  {
   "cell_type": "markdown",
   "id": "d6946ccc",
   "metadata": {},
   "source": [
    "- I could not find a similar python package to R's CRAN odds.converter so I will create a function myself to convert the American Odds to the implied probability using the formula shown in this website: https://www.thelines.com/calculate-implied-probability-american-betting-odds/"
   ]
  },
  {
   "cell_type": "code",
   "execution_count": 496,
   "id": "bed8ea30",
   "metadata": {},
   "outputs": [],
   "source": [
    "def convert_negative_odds(odds):\n",
    "    '''\n",
    "    - Function that converts negative American odds (favorites) into implied probability\n",
    "    '''\n",
    "    return odds / (odds + 100) * 100\n",
    "\n",
    "def convert_positive_odds(odds):\n",
    "    '''\n",
    "    - Function that converts positive American odds (underdogs) into implied probability\n",
    "    '''\n",
    "    return 100 / (odds + 100) * 100"
   ]
  },
  {
   "cell_type": "code",
   "execution_count": 497,
   "id": "075692de",
   "metadata": {},
   "outputs": [],
   "source": [
    "# Use the function within a loop to convert all the values to implied probability\n",
    "\n",
    "first_prob = []\n",
    "last_prob = []\n",
    "\n",
    "for i in probabilities.First_MoneyUS2:\n",
    "    if i > 0:\n",
    "        first_prob.append(convert_positive_odds(abs(i)))\n",
    "    else:\n",
    "        first_prob.append(convert_negative_odds(abs(i)))\n",
    "        \n",
    "for i in probabilities.Last_MoneyUS2:\n",
    "    if i > 0:\n",
    "        last_prob.append(convert_positive_odds(abs(i)))\n",
    "    else:\n",
    "        last_prob.append(convert_negative_odds(abs(i)))"
   ]
  },
  {
   "cell_type": "code",
   "execution_count": 498,
   "id": "1ced526d",
   "metadata": {},
   "outputs": [
    {
     "data": {
      "text/html": [
       "<div>\n",
       "<style scoped>\n",
       "    .dataframe tbody tr th:only-of-type {\n",
       "        vertical-align: middle;\n",
       "    }\n",
       "\n",
       "    .dataframe tbody tr th {\n",
       "        vertical-align: top;\n",
       "    }\n",
       "\n",
       "    .dataframe thead th {\n",
       "        text-align: right;\n",
       "    }\n",
       "</style>\n",
       "<table border=\"1\" class=\"dataframe\">\n",
       "  <thead>\n",
       "    <tr style=\"text-align: right;\">\n",
       "      <th></th>\n",
       "      <th>GameID</th>\n",
       "      <th>First_MoneyUS2</th>\n",
       "      <th>Last_MoneyUS2</th>\n",
       "      <th>WinHomeTeam</th>\n",
       "    </tr>\n",
       "  </thead>\n",
       "  <tbody>\n",
       "    <tr>\n",
       "      <th>0</th>\n",
       "      <td>PIT201604030</td>\n",
       "      <td>49.504950</td>\n",
       "      <td>54.128440</td>\n",
       "      <td>1.0</td>\n",
       "    </tr>\n",
       "    <tr>\n",
       "      <th>1</th>\n",
       "      <td>TBA201604030</td>\n",
       "      <td>49.019608</td>\n",
       "      <td>53.917051</td>\n",
       "      <td>0.0</td>\n",
       "    </tr>\n",
       "    <tr>\n",
       "      <th>2</th>\n",
       "      <td>KCA201604030</td>\n",
       "      <td>48.543689</td>\n",
       "      <td>48.309179</td>\n",
       "      <td>1.0</td>\n",
       "    </tr>\n",
       "    <tr>\n",
       "      <th>3</th>\n",
       "      <td>MIL201604040</td>\n",
       "      <td>37.735849</td>\n",
       "      <td>39.215686</td>\n",
       "      <td>0.0</td>\n",
       "    </tr>\n",
       "    <tr>\n",
       "      <th>4</th>\n",
       "      <td>BAL201604040</td>\n",
       "      <td>54.337900</td>\n",
       "      <td>53.271028</td>\n",
       "      <td>1.0</td>\n",
       "    </tr>\n",
       "    <tr>\n",
       "      <th>5</th>\n",
       "      <td>TEX201604040</td>\n",
       "      <td>53.051643</td>\n",
       "      <td>54.545455</td>\n",
       "      <td>1.0</td>\n",
       "    </tr>\n",
       "  </tbody>\n",
       "</table>\n",
       "</div>"
      ],
      "text/plain": [
       "         GameID  First_MoneyUS2  Last_MoneyUS2  WinHomeTeam\n",
       "0  PIT201604030       49.504950      54.128440          1.0\n",
       "1  TBA201604030       49.019608      53.917051          0.0\n",
       "2  KCA201604030       48.543689      48.309179          1.0\n",
       "3  MIL201604040       37.735849      39.215686          0.0\n",
       "4  BAL201604040       54.337900      53.271028          1.0\n",
       "5  TEX201604040       53.051643      54.545455          1.0"
      ]
     },
     "execution_count": 498,
     "metadata": {},
     "output_type": "execute_result"
    }
   ],
   "source": [
    "probabilities.First_MoneyUS2 = first_prob\n",
    "probabilities.Last_MoneyUS2 = last_prob\n",
    "\n",
    "# replace True and False with 1 and 0 (to replicate given example and is also needed for the next section)\n",
    "probabilities['WinHomeTeam'] = probabilities['WinHomeTeam'].replace(to_replace=True, value=1)\n",
    "probabilities['WinHomeTeam'] = probabilities['WinHomeTeam'].replace(to_replace=False, value=0)\n",
    "\n",
    "probabilities.head(6)"
   ]
  },
  {
   "cell_type": "markdown",
   "id": "b3a4a027",
   "metadata": {},
   "source": [
    "# Q3. a) The table above presents 2 different set probabilities of home team winning (First_MoneyUS2 and Last_MoneyUS2). Which column is a better predictor of the final outcome? Please give a brief explanation."
   ]
  },
  {
   "cell_type": "markdown",
   "id": "a4a724b2",
   "metadata": {},
   "source": [
    "- Converting the probabilities to 0 or 1 creates a problematic situation where 0.51 and 0.49 are considered to be very different but 0.51 and 0.91 are considered to be the same. To measure the difference between claimed event probability values and the event occurrences, we can look at the Brier score. The Brier score measures the mean squared difference between the predicted probability and the actual outcome\n",
    "\n",
    "- The Brier score is appropriate for binary and categorical outcomes that can be structured as true or false, but is inappropriate for ordinal variables which can take on three or more values. So it is perfect for this situation as we are looking at a binary outcome of a win or a loss.\n",
    "\n",
    "- Another way to evaluate the difference between claimed event probability and the event occurrences is to look at the log loss. I will look at both the Brier score and log loss for consistency"
   ]
  },
  {
   "cell_type": "code",
   "execution_count": 499,
   "id": "0dba9cc9",
   "metadata": {},
   "outputs": [
    {
     "data": {
      "text/html": [
       "<div>\n",
       "<style scoped>\n",
       "    .dataframe tbody tr th:only-of-type {\n",
       "        vertical-align: middle;\n",
       "    }\n",
       "\n",
       "    .dataframe tbody tr th {\n",
       "        vertical-align: top;\n",
       "    }\n",
       "\n",
       "    .dataframe thead th {\n",
       "        text-align: right;\n",
       "    }\n",
       "</style>\n",
       "<table border=\"1\" class=\"dataframe\">\n",
       "  <thead>\n",
       "    <tr style=\"text-align: right;\">\n",
       "      <th></th>\n",
       "      <th>GameID</th>\n",
       "      <th>First_MoneyUS2</th>\n",
       "      <th>Last_MoneyUS2</th>\n",
       "      <th>WinHomeTeam</th>\n",
       "    </tr>\n",
       "  </thead>\n",
       "  <tbody>\n",
       "    <tr>\n",
       "      <th>0</th>\n",
       "      <td>PIT201604030</td>\n",
       "      <td>49.504950</td>\n",
       "      <td>54.128440</td>\n",
       "      <td>1.0</td>\n",
       "    </tr>\n",
       "    <tr>\n",
       "      <th>1</th>\n",
       "      <td>TBA201604030</td>\n",
       "      <td>49.019608</td>\n",
       "      <td>53.917051</td>\n",
       "      <td>0.0</td>\n",
       "    </tr>\n",
       "    <tr>\n",
       "      <th>2</th>\n",
       "      <td>KCA201604030</td>\n",
       "      <td>48.543689</td>\n",
       "      <td>48.309179</td>\n",
       "      <td>1.0</td>\n",
       "    </tr>\n",
       "    <tr>\n",
       "      <th>3</th>\n",
       "      <td>MIL201604040</td>\n",
       "      <td>37.735849</td>\n",
       "      <td>39.215686</td>\n",
       "      <td>0.0</td>\n",
       "    </tr>\n",
       "    <tr>\n",
       "      <th>4</th>\n",
       "      <td>BAL201604040</td>\n",
       "      <td>54.337900</td>\n",
       "      <td>53.271028</td>\n",
       "      <td>1.0</td>\n",
       "    </tr>\n",
       "  </tbody>\n",
       "</table>\n",
       "</div>"
      ],
      "text/plain": [
       "         GameID  First_MoneyUS2  Last_MoneyUS2  WinHomeTeam\n",
       "0  PIT201604030       49.504950      54.128440          1.0\n",
       "1  TBA201604030       49.019608      53.917051          0.0\n",
       "2  KCA201604030       48.543689      48.309179          1.0\n",
       "3  MIL201604040       37.735849      39.215686          0.0\n",
       "4  BAL201604040       54.337900      53.271028          1.0"
      ]
     },
     "execution_count": 499,
     "metadata": {},
     "output_type": "execute_result"
    }
   ],
   "source": [
    "probabilities.head()"
   ]
  },
  {
   "cell_type": "code",
   "execution_count": 500,
   "id": "6fe250ab",
   "metadata": {},
   "outputs": [
    {
     "name": "stdout",
     "output_type": "stream",
     "text": [
      "Brier score for First_MoneyUS2: 0.24223322113446868\n",
      "Brier score for Last_MoneyUS2: 0.24064301181370085\n"
     ]
    }
   ],
   "source": [
    "from sklearn.metrics import brier_score_loss\n",
    "\n",
    "# Brier score for First_MoneyUS2\n",
    "y = probabilities.WinHomeTeam\n",
    "y_pred = probabilities.First_MoneyUS2 / 100 #convert to decimal\n",
    "\n",
    "loss = brier_score_loss(y, y_pred)\n",
    "print(\"Brier score for First_MoneyUS2: \" + str(loss))\n",
    "\n",
    "#Brier score for Last_MoneyUS2\n",
    "y = probabilities.WinHomeTeam\n",
    "y_pred2 = probabilities.Last_MoneyUS2 / 100\n",
    "\n",
    "loss2 = brier_score_loss(y, y_pred2)\n",
    "print(\"Brier score for Last_MoneyUS2: \" + str(loss2))"
   ]
  },
  {
   "cell_type": "code",
   "execution_count": 501,
   "id": "b14dfbbb",
   "metadata": {},
   "outputs": [
    {
     "name": "stdout",
     "output_type": "stream",
     "text": [
      "Log loss for First_MoneyUS2: 0.6775509408143948\n",
      "Log loss for Last_MoneyUS2: 0.6742014257932837\n"
     ]
    }
   ],
   "source": [
    "from sklearn.metrics import log_loss\n",
    "\n",
    "# Log loss for First_MoneyUS2\n",
    "y = probabilities.WinHomeTeam\n",
    "y_pred = probabilities.First_MoneyUS2 / 100 #convert to decimal\n",
    "\n",
    "loss = log_loss(y, y_pred)\n",
    "print(\"Log loss for First_MoneyUS2: \" + str(loss))\n",
    "\n",
    "# Log loss for Last_MoneyUS2\n",
    "y = probabilities.WinHomeTeam\n",
    "y_pred2 = probabilities.Last_MoneyUS2 / 100\n",
    "\n",
    "loss2 = log_loss(y, y_pred2)\n",
    "print(\"Log loss for Last_MoneyUS2: \" + str(loss2))"
   ]
  },
  {
   "cell_type": "markdown",
   "id": "413bce2e",
   "metadata": {},
   "source": [
    "- For both the Brier score and log loss, the lower the value the better. So with that in mind, it can be seen that the Last_MoneyUS2 column has a very slightly lower value for both the Brier score and log loss **so it can be concluded that the Last_MoneyUS2 column is a slightly better predictor of the final outcome**"
   ]
  }
 ],
 "metadata": {
  "kernelspec": {
   "display_name": "Python 3",
   "language": "python",
   "name": "python3"
  },
  "language_info": {
   "codemirror_mode": {
    "name": "ipython",
    "version": 3
   },
   "file_extension": ".py",
   "mimetype": "text/x-python",
   "name": "python",
   "nbconvert_exporter": "python",
   "pygments_lexer": "ipython3",
   "version": "3.8.5"
  }
 },
 "nbformat": 4,
 "nbformat_minor": 5
}
